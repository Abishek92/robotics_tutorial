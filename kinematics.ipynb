{
 "cells": [
  {
   "cell_type": "code",
   "execution_count": 51,
   "metadata": {},
   "outputs": [],
   "source": [
    "def forward_kinematics(theta1, theta2, l1, l2):\n",
    "    x = l1*math.cos(theta1) + l2*math.cos(theta1 + theta2)\n",
    "    y = l1*math.sin(theta1) + l2*math.sin(theta1 + theta2)\n",
    "    return [x, y]\n",
    "\n",
    "def inverse_kinematics(x, y, l1, l2):\n",
    "    a = 2*x*l2\n",
    "    b = 2*y*l2\n",
    "    c =  l1*l1 - x*x - y*y  - l2*l2 \n",
    "    psi = math.atan2(b, a)\n",
    "    theta12 = psi + math.acos(-c/math.sqrt(a*a + b*b))\n",
    "    theta1 = math.atan2((y - l2*math.sin(theta12))/l1, (x - l2*math.cos(theta12))/l1)\n",
    "    return [theta1, theta12-theta1]"
   ]
  },
  {
   "cell_type": "code",
   "execution_count": 48,
   "metadata": {},
   "outputs": [],
   "source": [
    "import math\n",
    "import numpy\n",
    "\n",
    "[x, y] = forward_kinematics(math.pi/2, 0, 1, 2)\n",
    "\n",
    "[theta1, theta2] = inverse_kinematics(0, -1, 1, 2)"
   ]
  },
  {
   "cell_type": "code",
   "execution_count": 12,
   "metadata": {},
   "outputs": [
    {
     "name": "stdout",
     "output_type": "stream",
     "text": [
      "1.8369701987210297e-16 3.0\n"
     ]
    }
   ],
   "source": [
    "print(x,y)"
   ]
  },
  {
   "cell_type": "code",
   "execution_count": 49,
   "metadata": {},
   "outputs": [
    {
     "name": "stdout",
     "output_type": "stream",
     "text": [
      "1.5707963267948968 -3.141592653589793\n"
     ]
    }
   ],
   "source": [
    "print(theta1, theta2)"
   ]
  },
  {
   "cell_type": "code",
   "execution_count": 67,
   "metadata": {},
   "outputs": [
    {
     "name": "stdout",
     "output_type": "stream",
     "text": [
      "0.6194169893868526 0.07765851659097589\n",
      "-2.220446049250313e-15 3.3306690738754696e-15\n"
     ]
    }
   ],
   "source": [
    "theta1 = numpy.random.rand()\n",
    "theta2 = numpy.random.rand()\n",
    "print(theta1, theta2)\n",
    "\n",
    "l1 = 1\n",
    "l2 = 2\n",
    "\n",
    "[x, y] = forward_kinematics(theta1, theta2, l1, l2)\n",
    "[t1, t2] = inverse_kinematics(x, y, l1, l2)\n",
    "\n",
    "print(t1 - theta1, t2 - theta2)\n"
   ]
  },
  {
   "cell_type": "code",
   "execution_count": null,
   "metadata": {},
   "outputs": [],
   "source": []
  }
 ],
 "metadata": {
  "kernelspec": {
   "display_name": "Python [conda env:pybt] *",
   "language": "python",
   "name": "conda-env-pybt-py"
  },
  "language_info": {
   "codemirror_mode": {
    "name": "ipython",
    "version": 3
   },
   "file_extension": ".py",
   "mimetype": "text/x-python",
   "name": "python",
   "nbconvert_exporter": "python",
   "pygments_lexer": "ipython3",
   "version": "3.7.5"
  }
 },
 "nbformat": 4,
 "nbformat_minor": 2
}
