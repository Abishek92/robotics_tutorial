{
 "cells": [
  {
   "cell_type": "code",
   "execution_count": 1,
   "metadata": {},
   "outputs": [],
   "source": [
    "import pybullet as p\n",
    "import pybullet_data"
   ]
  },
  {
   "cell_type": "code",
   "execution_count": 2,
   "metadata": {},
   "outputs": [],
   "source": [
    "physicsClient = p.connect(p.GUI)\n",
    "p.setGravity(0,0,-9.81, physicsClientId = physicsClient)\n",
    "p.setAdditionalSearchPath(pybullet_data.getDataPath()) #Loads the plane urdf file\n",
    "planeId = p.loadURDF(\"plane.urdf\")\n",
    "#URDF File for SCARA has been obtained from:\n",
    "#https://github.com/yangliu28/two_scara_collaboration.git\n",
    "base1 = p.loadURDF(\"scara_robot_left.urdf\")"
   ]
  },
  {
   "cell_type": "code",
   "execution_count": null,
   "metadata": {},
   "outputs": [],
   "source": [
    "#First load Joint ID's"
   ]
  }
 ],
 "metadata": {
  "kernelspec": {
   "display_name": "Python [conda env:pybullet_tutorial] *",
   "language": "python",
   "name": "conda-env-pybullet_tutorial-py"
  },
  "language_info": {
   "codemirror_mode": {
    "name": "ipython",
    "version": 3
   },
   "file_extension": ".py",
   "mimetype": "text/x-python",
   "name": "python",
   "nbconvert_exporter": "python",
   "pygments_lexer": "ipython3",
   "version": "3.7.5"
  }
 },
 "nbformat": 4,
 "nbformat_minor": 2
}
