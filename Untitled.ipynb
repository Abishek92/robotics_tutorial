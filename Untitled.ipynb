{
 "cells": [
  {
   "cell_type": "code",
   "execution_count": 2,
   "metadata": {},
   "outputs": [],
   "source": [
    "import pybullet as p\n",
    "import pybullet_data"
   ]
  },
  {
   "cell_type": "code",
   "execution_count": 3,
   "metadata": {},
   "outputs": [],
   "source": [
    "physicsClient = p.connect(p.GUI)\n",
    "p.setGravity(0,0,-9.81, physicsClientId = physicsClient)\n",
    "p.setAdditionalSearchPath(pybullet_data.getDataPath()) #Loads the plane urdf file\n",
    "planeId = p.loadURDF(\"plane.urdf\")\n",
    "#URDF File for SCARA has been obtained from:\n",
    "#https://github.com/yangliu28/two_scara_collaboration.git\n",
    "scara = p.loadURDF(\"scara_robot_left.urdf\")"
   ]
  },
  {
   "cell_type": "code",
   "execution_count": 6,
   "metadata": {},
   "outputs": [
    {
     "name": "stdout",
     "output_type": "stream",
     "text": [
      "8\n"
     ]
    }
   ],
   "source": [
    "#First let us investigate the number of joints\n",
    "total_no_of_joints = p.getNumJoints(scara)\n",
    "print(total_no_of_joints)"
   ]
  },
  {
   "cell_type": "code",
   "execution_count": 9,
   "metadata": {},
   "outputs": [
    {
     "name": "stdout",
     "output_type": "stream",
     "text": [
      "(0, b'joint_fix', 4, -1, -1, 0, 0.0, 0.0, 0.0, -1.0, 0.0, 0.0, b'base_link', (0.0, 0.0, 0.0), (0.0, 0.0, 0.0), (0.0, 0.0, 0.0, 1.0), -1)\n",
      "(1, b'rotation1', 0, 7, 6, 1, 0.0, 0.0, -2.6, 2.6, 1000.0, 1000.0, b'arm1', (0.0, 0.0, 1.0), (0.0, 0.0, 0.2), (0.0, 0.0, 0.0, 1.0), 0)\n",
      "(2, b'rotation2', 0, 8, 7, 1, 0.0, 0.0, -3.0, 3.0, 1000.0, 1000.0, b'arm2', (0.0, 0.0, 1.0), (0.0, -1.0, 0.05), (0.0, 0.0, 0.0, 1.0), 1)\n",
      "(3, b'gripper_joint', 1, 9, 8, 1, 0.0, 0.0, -0.05, 0.0, 100.0, 100.0, b'gripper_link', (0.0, 0.0, 1.0), (0.0, -0.8, -0.05), (0.0, 0.0, 0.0, 1.0), 2)\n",
      "(4, b'finger1_joint', 1, 10, 9, 1, 0.0, 0.0, 0.0, 0.02, 100.0, 100.0, b'finger1', (0.0, 1.0, 0.0), (0.0, -0.04, -0.23), (0.0, 0.0, 0.0, 1.0), 3)\n",
      "(5, b'finger2_joint', 1, 11, 10, 1, 0.0, 0.0, -0.02, 0.0, 100.0, 100.0, b'finger2', (1.0, 0.0, 0.0), (0.04, 0.0, -0.23), (0.0, 0.0, 0.0, 1.0), 3)\n",
      "(6, b'finger3_joint', 1, 12, 11, 1, 0.0, 0.0, -0.02, 0.0, 100.0, 100.0, b'finger3', (0.0, 1.0, 0.0), (0.0, 0.04, -0.23), (0.0, 0.0, 0.0, 1.0), 3)\n",
      "(7, b'finger4_joint', 1, 13, 12, 1, 0.0, 0.0, 0.0, 0.02, 100.0, 100.0, b'finger4', (1.0, 0.0, 0.0), (-0.04, 0.0, -0.23), (0.0, 0.0, 0.0, 1.0), 3)\n"
     ]
    }
   ],
   "source": [
    "for i in range(total_no_of_joints):\n",
    "    print(p.getJointInfo(scara, i))"
   ]
  },
  {
   "cell_type": "markdown",
   "metadata": {},
   "source": [
    "Alright now we have all the joints info provided to us by pybullet. All Joints are controlled by their ID, it will be helpful to store the ID's in easy to remember variable names. Do that in the below code, for the joints you find useful, one has been done for you"
   ]
  },
  {
   "cell_type": "code",
   "execution_count": 10,
   "metadata": {},
   "outputs": [],
   "source": [
    "base_rotation_id = 1\n",
    "elbow_rotation_id = 2\n",
    "gripper_prismatic_id = 3\n",
    "finger1_prismatic_id = 4\n",
    "finger2_prismatic_id = 5\n",
    "finger3_prismatic_id = 6\n",
    "finger4_prismatic_id = 7"
   ]
  },
  {
   "cell_type": "code",
   "execution_count": null,
   "metadata": {},
   "outputs": [],
   "source": []
  }
 ],
 "metadata": {
  "kernelspec": {
   "display_name": "Python [conda env:pybullet_tutorial] *",
   "language": "python",
   "name": "conda-env-pybullet_tutorial-py"
  },
  "language_info": {
   "codemirror_mode": {
    "name": "ipython",
    "version": 3
   },
   "file_extension": ".py",
   "mimetype": "text/x-python",
   "name": "python",
   "nbconvert_exporter": "python",
   "pygments_lexer": "ipython3",
   "version": "3.7.5"
  }
 },
 "nbformat": 4,
 "nbformat_minor": 2
}
