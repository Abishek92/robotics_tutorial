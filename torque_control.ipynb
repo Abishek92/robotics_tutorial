{
 "cells": [
  {
   "cell_type": "code",
   "execution_count": 1,
   "metadata": {},
   "outputs": [
    {
     "name": "stdout",
     "output_type": "stream",
     "text": [
      "1.8369701987210297e-16 3.0\n",
      "1.5707963267948968 -3.141592653589793\n",
      "0.6425397063779064 0.034418478095045946\n",
      "-1.865174681370263e-14 2.7977620220553945e-14\n"
     ]
    }
   ],
   "source": [
    "%run sim_env_setup.ipynb\n",
    "%run kinematics.ipynb"
   ]
  },
  {
   "cell_type": "code",
   "execution_count": 2,
   "metadata": {},
   "outputs": [],
   "source": [
    "import numpy as np\n",
    "# Run this command to disable the motors\n",
    "p.setJointMotorControlArray(scara, [1, 2], p.VELOCITY_CONTROL, forces=[0, 0])"
   ]
  },
  {
   "cell_type": "code",
   "execution_count": 3,
   "metadata": {},
   "outputs": [
    {
     "data": {
      "text/plain": [
       "(-0.04443325490477883,\n",
       " -0.04351272342656368,\n",
       " (0.0, 0.0, 0.0, 0.0, 0.0, 0.0),\n",
       " 0.0)"
      ]
     },
     "execution_count": 3,
     "metadata": {},
     "output_type": "execute_result"
    }
   ],
   "source": [
    "p.setJointMotorControl2(scara, 1, p.TORQUE_CONTROL, force=-50)\n",
    "\n",
    "for _ in range(1000):\n",
    "    p.stepSimulation()\n",
    "    \n",
    "p.getJointState(scara, 1)"
   ]
  },
  {
   "cell_type": "code",
   "execution_count": 4,
   "metadata": {},
   "outputs": [],
   "source": [
    "# Read position at every time step and use proporitonal control to reach the position\n",
    "dt = 0.001\n",
    "p_gain = 2\n",
    "d_gain = 5\n",
    "error = 0\n",
    "error_old = 0\n",
    "desired_pos = 1.5\n",
    "for _ in range(100000):\n",
    "    pos, _, _, _ = p.getJointState(scara,1)\n",
    "    error = desired_pos - pos\n",
    "    error_d = (error - error_old)/dt\n",
    "    control_force = p_gain * error + d_gain * error_d\n",
    "    p.setJointMotorControl2(scara, 1, p.TORQUE_CONTROL, force=control_force)\n",
    "    p.stepSimulation()    "
   ]
  },
  {
   "cell_type": "code",
   "execution_count": 5,
   "metadata": {},
   "outputs": [],
   "source": [
    "# Read position at every time step and use proporitonal control to reach the position\n",
    "dt = 0.001\n",
    "p_gain = 2\n",
    "d_gain = 5\n",
    "error = 0\n",
    "error_old = 0\n",
    "desired_pos = np.array([1.5, 1.5])\n",
    "for _ in range(100000):\n",
    "    pos1, _, _, _ = p.getJointState(scara,1)\n",
    "    pos2, _, _, _ = p.getJointState(scara,2)\n",
    "    pos = np.array([pos1, pos2])\n",
    "    error = desired_pos - pos\n",
    "    error_d = (error - error_old)/dt\n",
    "    control_force = p_gain * error + d_gain * error_d\n",
    "    p.setJointMotorControlArray(scara, [1,2], p.TORQUE_CONTROL, forces=control_force)\n",
    "    p.stepSimulation()"
   ]
  },
  {
   "cell_type": "code",
   "execution_count": 6,
   "metadata": {},
   "outputs": [],
   "source": [
    "def control(theta1, theta2):\n",
    "    # Read position at every time step and use proporitonal control to reach the position\n",
    "    dt = 0.001\n",
    "    p_gain = 2\n",
    "    d_gain = 5\n",
    "    error = 0\n",
    "    error_old = 0\n",
    "    desired_pos = np.array([theta1, theta2])\n",
    "    for _ in range(100000):\n",
    "        pos1, _, _, _ = p.getJointState(scara,1)\n",
    "        pos2, _, _, _ = p.getJointState(scara,2)\n",
    "        pos = np.array([pos1, pos2])\n",
    "        error = desired_pos - pos\n",
    "        error_d = (error - error_old)/dt\n",
    "        control_force = p_gain * error + d_gain * error_d\n",
    "        return control_force\n",
    "        \n",
    "        "
   ]
  },
  {
   "cell_type": "code",
   "execution_count": 9,
   "metadata": {},
   "outputs": [],
   "source": [
    "# Kinematics for serial-2R\n",
    "\n",
    "p1 = np.array([1.0, 0.5])\n",
    "p2 = np.array([0.5, 1.0])\n",
    "pt = p1\n",
    "\n",
    "[theta1, theta2] = inverse_kinematics(pt[0], pt[1], 1, 1)\n",
    "\n",
    "for _ in range(10000):\n",
    "    control_force = control(theta1, theta2)\n",
    "    p.setJointMotorControlArray(scara, [1,2], p.TORQUE_CONTROL, forces=control_force)\n",
    "    p.stepSimulation()\n"
   ]
  },
  {
   "cell_type": "code",
   "execution_count": 14,
   "metadata": {},
   "outputs": [],
   "source": [
    "p.disconnect()"
   ]
  },
  {
   "cell_type": "code",
   "execution_count": null,
   "metadata": {},
   "outputs": [],
   "source": []
  }
 ],
 "metadata": {
  "kernelspec": {
   "display_name": "Python [conda env:pybt] *",
   "language": "python",
   "name": "conda-env-pybt-py"
  },
  "language_info": {
   "codemirror_mode": {
    "name": "ipython",
    "version": 3
   },
   "file_extension": ".py",
   "mimetype": "text/x-python",
   "name": "python",
   "nbconvert_exporter": "python",
   "pygments_lexer": "ipython3",
   "version": "3.7.5"
  }
 },
 "nbformat": 4,
 "nbformat_minor": 2
}
