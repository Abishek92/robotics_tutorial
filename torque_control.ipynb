{
 "cells": [
  {
   "cell_type": "code",
   "execution_count": 1,
   "metadata": {},
   "outputs": [],
   "source": [
    "%run sim_env_setup.ipynb\n"
   ]
  },
  {
   "cell_type": "code",
   "execution_count": 44,
   "metadata": {},
   "outputs": [],
   "source": [
    "# Run this command to disable the motors\n",
    "p.setJointMotorControl2(scara,1, p.VELOCITY_CONTROL, force=0)"
   ]
  },
  {
   "cell_type": "code",
   "execution_count": 52,
   "metadata": {},
   "outputs": [
    {
     "data": {
      "text/plain": [
       "(1.2953539989079008,\n",
       " 4.459513452921249,\n",
       " (0.0, 0.0, 0.0, 0.0, 0.0, 0.0),\n",
       " 1.4052007944850913)"
      ]
     },
     "execution_count": 52,
     "metadata": {},
     "output_type": "execute_result"
    }
   ],
   "source": [
    "p.setJointMotorControl2(scara, 1, p.TORQUE_CONTROL, force=5)\n",
    "\n",
    "for _ in range(100):\n",
    "    p.stepSimulation()\n",
    "    \n",
    "p.getJointState(scara, 1)"
   ]
  }
 ],
 "metadata": {
  "kernelspec": {
   "display_name": "Python [conda env:pybt] *",
   "language": "python",
   "name": "conda-env-pybt-py"
  },
  "language_info": {
   "codemirror_mode": {
    "name": "ipython",
    "version": 3
   },
   "file_extension": ".py",
   "mimetype": "text/x-python",
   "name": "python",
   "nbconvert_exporter": "python",
   "pygments_lexer": "ipython3",
   "version": "3.7.5"
  }
 },
 "nbformat": 4,
 "nbformat_minor": 2
}
